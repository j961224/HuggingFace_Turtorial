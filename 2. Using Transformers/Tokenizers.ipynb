{
  "nbformat": 4,
  "nbformat_minor": 0,
  "metadata": {
    "colab": {
      "name": "Tokenizers.ipynb",
      "provenance": [],
      "collapsed_sections": []
    },
    "kernelspec": {
      "name": "python3",
      "display_name": "Python 3"
    },
    "language_info": {
      "name": "python"
    },
    "widgets": {
      "application/vnd.jupyter.widget-state+json": {
        "0db8b99851fb434caedc032718d3e36b": {
          "model_module": "@jupyter-widgets/controls",
          "model_name": "HBoxModel",
          "model_module_version": "1.5.0",
          "state": {
            "_view_name": "HBoxView",
            "_dom_classes": [],
            "_model_name": "HBoxModel",
            "_view_module": "@jupyter-widgets/controls",
            "_model_module_version": "1.5.0",
            "_view_count": null,
            "_view_module_version": "1.5.0",
            "box_style": "",
            "layout": "IPY_MODEL_494881d4d8d344809612cde65d81506e",
            "_model_module": "@jupyter-widgets/controls",
            "children": [
              "IPY_MODEL_7995a01baad843ea94d80f2e37fb91b3",
              "IPY_MODEL_ea7f690a99df4ee0ae26f5c58b2d1dcb",
              "IPY_MODEL_54baf75da0a541f883caeb794c9ae23e"
            ]
          }
        },
        "494881d4d8d344809612cde65d81506e": {
          "model_module": "@jupyter-widgets/base",
          "model_name": "LayoutModel",
          "model_module_version": "1.2.0",
          "state": {
            "_view_name": "LayoutView",
            "grid_template_rows": null,
            "right": null,
            "justify_content": null,
            "_view_module": "@jupyter-widgets/base",
            "overflow": null,
            "_model_module_version": "1.2.0",
            "_view_count": null,
            "flex_flow": null,
            "width": null,
            "min_width": null,
            "border": null,
            "align_items": null,
            "bottom": null,
            "_model_module": "@jupyter-widgets/base",
            "top": null,
            "grid_column": null,
            "overflow_y": null,
            "overflow_x": null,
            "grid_auto_flow": null,
            "grid_area": null,
            "grid_template_columns": null,
            "flex": null,
            "_model_name": "LayoutModel",
            "justify_items": null,
            "grid_row": null,
            "max_height": null,
            "align_content": null,
            "visibility": null,
            "align_self": null,
            "height": null,
            "min_height": null,
            "padding": null,
            "grid_auto_rows": null,
            "grid_gap": null,
            "max_width": null,
            "order": null,
            "_view_module_version": "1.2.0",
            "grid_template_areas": null,
            "object_position": null,
            "object_fit": null,
            "grid_auto_columns": null,
            "margin": null,
            "display": null,
            "left": null
          }
        },
        "7995a01baad843ea94d80f2e37fb91b3": {
          "model_module": "@jupyter-widgets/controls",
          "model_name": "HTMLModel",
          "model_module_version": "1.5.0",
          "state": {
            "_view_name": "HTMLView",
            "style": "IPY_MODEL_20de2e5e23ce4b878977d4437c3d5a30",
            "_dom_classes": [],
            "description": "",
            "_model_name": "HTMLModel",
            "placeholder": "​",
            "_view_module": "@jupyter-widgets/controls",
            "_model_module_version": "1.5.0",
            "value": "Downloading: 100%",
            "_view_count": null,
            "_view_module_version": "1.5.0",
            "description_tooltip": null,
            "_model_module": "@jupyter-widgets/controls",
            "layout": "IPY_MODEL_73f1a2da03364d0fbad57a18c765c0c2"
          }
        },
        "ea7f690a99df4ee0ae26f5c58b2d1dcb": {
          "model_module": "@jupyter-widgets/controls",
          "model_name": "FloatProgressModel",
          "model_module_version": "1.5.0",
          "state": {
            "_view_name": "ProgressView",
            "style": "IPY_MODEL_b75fd63629f440a29690e9e53e7b3462",
            "_dom_classes": [],
            "description": "",
            "_model_name": "FloatProgressModel",
            "bar_style": "success",
            "max": 213450,
            "_view_module": "@jupyter-widgets/controls",
            "_model_module_version": "1.5.0",
            "value": 213450,
            "_view_count": null,
            "_view_module_version": "1.5.0",
            "orientation": "horizontal",
            "min": 0,
            "description_tooltip": null,
            "_model_module": "@jupyter-widgets/controls",
            "layout": "IPY_MODEL_1cf1f3af2da443169b43c8c765aae092"
          }
        },
        "54baf75da0a541f883caeb794c9ae23e": {
          "model_module": "@jupyter-widgets/controls",
          "model_name": "HTMLModel",
          "model_module_version": "1.5.0",
          "state": {
            "_view_name": "HTMLView",
            "style": "IPY_MODEL_4c95edb4b9334eb18a9ae5bf0bacf6ba",
            "_dom_classes": [],
            "description": "",
            "_model_name": "HTMLModel",
            "placeholder": "​",
            "_view_module": "@jupyter-widgets/controls",
            "_model_module_version": "1.5.0",
            "value": " 213k/213k [00:00&lt;00:00, 967kB/s]",
            "_view_count": null,
            "_view_module_version": "1.5.0",
            "description_tooltip": null,
            "_model_module": "@jupyter-widgets/controls",
            "layout": "IPY_MODEL_9868535c213646a5ac5c534c9c91b8b1"
          }
        },
        "20de2e5e23ce4b878977d4437c3d5a30": {
          "model_module": "@jupyter-widgets/controls",
          "model_name": "DescriptionStyleModel",
          "model_module_version": "1.5.0",
          "state": {
            "_view_name": "StyleView",
            "_model_name": "DescriptionStyleModel",
            "description_width": "",
            "_view_module": "@jupyter-widgets/base",
            "_model_module_version": "1.5.0",
            "_view_count": null,
            "_view_module_version": "1.2.0",
            "_model_module": "@jupyter-widgets/controls"
          }
        },
        "73f1a2da03364d0fbad57a18c765c0c2": {
          "model_module": "@jupyter-widgets/base",
          "model_name": "LayoutModel",
          "model_module_version": "1.2.0",
          "state": {
            "_view_name": "LayoutView",
            "grid_template_rows": null,
            "right": null,
            "justify_content": null,
            "_view_module": "@jupyter-widgets/base",
            "overflow": null,
            "_model_module_version": "1.2.0",
            "_view_count": null,
            "flex_flow": null,
            "width": null,
            "min_width": null,
            "border": null,
            "align_items": null,
            "bottom": null,
            "_model_module": "@jupyter-widgets/base",
            "top": null,
            "grid_column": null,
            "overflow_y": null,
            "overflow_x": null,
            "grid_auto_flow": null,
            "grid_area": null,
            "grid_template_columns": null,
            "flex": null,
            "_model_name": "LayoutModel",
            "justify_items": null,
            "grid_row": null,
            "max_height": null,
            "align_content": null,
            "visibility": null,
            "align_self": null,
            "height": null,
            "min_height": null,
            "padding": null,
            "grid_auto_rows": null,
            "grid_gap": null,
            "max_width": null,
            "order": null,
            "_view_module_version": "1.2.0",
            "grid_template_areas": null,
            "object_position": null,
            "object_fit": null,
            "grid_auto_columns": null,
            "margin": null,
            "display": null,
            "left": null
          }
        },
        "b75fd63629f440a29690e9e53e7b3462": {
          "model_module": "@jupyter-widgets/controls",
          "model_name": "ProgressStyleModel",
          "model_module_version": "1.5.0",
          "state": {
            "_view_name": "StyleView",
            "_model_name": "ProgressStyleModel",
            "description_width": "",
            "_view_module": "@jupyter-widgets/base",
            "_model_module_version": "1.5.0",
            "_view_count": null,
            "_view_module_version": "1.2.0",
            "bar_color": null,
            "_model_module": "@jupyter-widgets/controls"
          }
        },
        "1cf1f3af2da443169b43c8c765aae092": {
          "model_module": "@jupyter-widgets/base",
          "model_name": "LayoutModel",
          "model_module_version": "1.2.0",
          "state": {
            "_view_name": "LayoutView",
            "grid_template_rows": null,
            "right": null,
            "justify_content": null,
            "_view_module": "@jupyter-widgets/base",
            "overflow": null,
            "_model_module_version": "1.2.0",
            "_view_count": null,
            "flex_flow": null,
            "width": null,
            "min_width": null,
            "border": null,
            "align_items": null,
            "bottom": null,
            "_model_module": "@jupyter-widgets/base",
            "top": null,
            "grid_column": null,
            "overflow_y": null,
            "overflow_x": null,
            "grid_auto_flow": null,
            "grid_area": null,
            "grid_template_columns": null,
            "flex": null,
            "_model_name": "LayoutModel",
            "justify_items": null,
            "grid_row": null,
            "max_height": null,
            "align_content": null,
            "visibility": null,
            "align_self": null,
            "height": null,
            "min_height": null,
            "padding": null,
            "grid_auto_rows": null,
            "grid_gap": null,
            "max_width": null,
            "order": null,
            "_view_module_version": "1.2.0",
            "grid_template_areas": null,
            "object_position": null,
            "object_fit": null,
            "grid_auto_columns": null,
            "margin": null,
            "display": null,
            "left": null
          }
        },
        "4c95edb4b9334eb18a9ae5bf0bacf6ba": {
          "model_module": "@jupyter-widgets/controls",
          "model_name": "DescriptionStyleModel",
          "model_module_version": "1.5.0",
          "state": {
            "_view_name": "StyleView",
            "_model_name": "DescriptionStyleModel",
            "description_width": "",
            "_view_module": "@jupyter-widgets/base",
            "_model_module_version": "1.5.0",
            "_view_count": null,
            "_view_module_version": "1.2.0",
            "_model_module": "@jupyter-widgets/controls"
          }
        },
        "9868535c213646a5ac5c534c9c91b8b1": {
          "model_module": "@jupyter-widgets/base",
          "model_name": "LayoutModel",
          "model_module_version": "1.2.0",
          "state": {
            "_view_name": "LayoutView",
            "grid_template_rows": null,
            "right": null,
            "justify_content": null,
            "_view_module": "@jupyter-widgets/base",
            "overflow": null,
            "_model_module_version": "1.2.0",
            "_view_count": null,
            "flex_flow": null,
            "width": null,
            "min_width": null,
            "border": null,
            "align_items": null,
            "bottom": null,
            "_model_module": "@jupyter-widgets/base",
            "top": null,
            "grid_column": null,
            "overflow_y": null,
            "overflow_x": null,
            "grid_auto_flow": null,
            "grid_area": null,
            "grid_template_columns": null,
            "flex": null,
            "_model_name": "LayoutModel",
            "justify_items": null,
            "grid_row": null,
            "max_height": null,
            "align_content": null,
            "visibility": null,
            "align_self": null,
            "height": null,
            "min_height": null,
            "padding": null,
            "grid_auto_rows": null,
            "grid_gap": null,
            "max_width": null,
            "order": null,
            "_view_module_version": "1.2.0",
            "grid_template_areas": null,
            "object_position": null,
            "object_fit": null,
            "grid_auto_columns": null,
            "margin": null,
            "display": null,
            "left": null
          }
        },
        "bf91f780e6a6469fada2e4cbde874fc8": {
          "model_module": "@jupyter-widgets/controls",
          "model_name": "HBoxModel",
          "model_module_version": "1.5.0",
          "state": {
            "_view_name": "HBoxView",
            "_dom_classes": [],
            "_model_name": "HBoxModel",
            "_view_module": "@jupyter-widgets/controls",
            "_model_module_version": "1.5.0",
            "_view_count": null,
            "_view_module_version": "1.5.0",
            "box_style": "",
            "layout": "IPY_MODEL_eb9850a1f4d540458754cd56335b6b98",
            "_model_module": "@jupyter-widgets/controls",
            "children": [
              "IPY_MODEL_5b75f72f6317451ba279cad3fc11c3a9",
              "IPY_MODEL_e898f9674bd04941a5434ab426adda5e",
              "IPY_MODEL_a50389c1850645768fca7660d6b69dc4"
            ]
          }
        },
        "eb9850a1f4d540458754cd56335b6b98": {
          "model_module": "@jupyter-widgets/base",
          "model_name": "LayoutModel",
          "model_module_version": "1.2.0",
          "state": {
            "_view_name": "LayoutView",
            "grid_template_rows": null,
            "right": null,
            "justify_content": null,
            "_view_module": "@jupyter-widgets/base",
            "overflow": null,
            "_model_module_version": "1.2.0",
            "_view_count": null,
            "flex_flow": null,
            "width": null,
            "min_width": null,
            "border": null,
            "align_items": null,
            "bottom": null,
            "_model_module": "@jupyter-widgets/base",
            "top": null,
            "grid_column": null,
            "overflow_y": null,
            "overflow_x": null,
            "grid_auto_flow": null,
            "grid_area": null,
            "grid_template_columns": null,
            "flex": null,
            "_model_name": "LayoutModel",
            "justify_items": null,
            "grid_row": null,
            "max_height": null,
            "align_content": null,
            "visibility": null,
            "align_self": null,
            "height": null,
            "min_height": null,
            "padding": null,
            "grid_auto_rows": null,
            "grid_gap": null,
            "max_width": null,
            "order": null,
            "_view_module_version": "1.2.0",
            "grid_template_areas": null,
            "object_position": null,
            "object_fit": null,
            "grid_auto_columns": null,
            "margin": null,
            "display": null,
            "left": null
          }
        },
        "5b75f72f6317451ba279cad3fc11c3a9": {
          "model_module": "@jupyter-widgets/controls",
          "model_name": "HTMLModel",
          "model_module_version": "1.5.0",
          "state": {
            "_view_name": "HTMLView",
            "style": "IPY_MODEL_7e6b640c3c474903b5f9b6b3233ed94e",
            "_dom_classes": [],
            "description": "",
            "_model_name": "HTMLModel",
            "placeholder": "​",
            "_view_module": "@jupyter-widgets/controls",
            "_model_module_version": "1.5.0",
            "value": "Downloading: 100%",
            "_view_count": null,
            "_view_module_version": "1.5.0",
            "description_tooltip": null,
            "_model_module": "@jupyter-widgets/controls",
            "layout": "IPY_MODEL_c0c4ea940f414c92a92b9a46fcefb02d"
          }
        },
        "e898f9674bd04941a5434ab426adda5e": {
          "model_module": "@jupyter-widgets/controls",
          "model_name": "FloatProgressModel",
          "model_module_version": "1.5.0",
          "state": {
            "_view_name": "ProgressView",
            "style": "IPY_MODEL_d12c7604bd5849b3931d0cc800d617f3",
            "_dom_classes": [],
            "description": "",
            "_model_name": "FloatProgressModel",
            "bar_style": "success",
            "max": 29,
            "_view_module": "@jupyter-widgets/controls",
            "_model_module_version": "1.5.0",
            "value": 29,
            "_view_count": null,
            "_view_module_version": "1.5.0",
            "orientation": "horizontal",
            "min": 0,
            "description_tooltip": null,
            "_model_module": "@jupyter-widgets/controls",
            "layout": "IPY_MODEL_b193b3e895e54abb9f2c7d98c2beba21"
          }
        },
        "a50389c1850645768fca7660d6b69dc4": {
          "model_module": "@jupyter-widgets/controls",
          "model_name": "HTMLModel",
          "model_module_version": "1.5.0",
          "state": {
            "_view_name": "HTMLView",
            "style": "IPY_MODEL_4bbc8b3249c34f418f6cdf090c10449d",
            "_dom_classes": [],
            "description": "",
            "_model_name": "HTMLModel",
            "placeholder": "​",
            "_view_module": "@jupyter-widgets/controls",
            "_model_module_version": "1.5.0",
            "value": " 29.0/29.0 [00:00&lt;00:00, 702B/s]",
            "_view_count": null,
            "_view_module_version": "1.5.0",
            "description_tooltip": null,
            "_model_module": "@jupyter-widgets/controls",
            "layout": "IPY_MODEL_6794d45834a14b949ffb82da92a26c3e"
          }
        },
        "7e6b640c3c474903b5f9b6b3233ed94e": {
          "model_module": "@jupyter-widgets/controls",
          "model_name": "DescriptionStyleModel",
          "model_module_version": "1.5.0",
          "state": {
            "_view_name": "StyleView",
            "_model_name": "DescriptionStyleModel",
            "description_width": "",
            "_view_module": "@jupyter-widgets/base",
            "_model_module_version": "1.5.0",
            "_view_count": null,
            "_view_module_version": "1.2.0",
            "_model_module": "@jupyter-widgets/controls"
          }
        },
        "c0c4ea940f414c92a92b9a46fcefb02d": {
          "model_module": "@jupyter-widgets/base",
          "model_name": "LayoutModel",
          "model_module_version": "1.2.0",
          "state": {
            "_view_name": "LayoutView",
            "grid_template_rows": null,
            "right": null,
            "justify_content": null,
            "_view_module": "@jupyter-widgets/base",
            "overflow": null,
            "_model_module_version": "1.2.0",
            "_view_count": null,
            "flex_flow": null,
            "width": null,
            "min_width": null,
            "border": null,
            "align_items": null,
            "bottom": null,
            "_model_module": "@jupyter-widgets/base",
            "top": null,
            "grid_column": null,
            "overflow_y": null,
            "overflow_x": null,
            "grid_auto_flow": null,
            "grid_area": null,
            "grid_template_columns": null,
            "flex": null,
            "_model_name": "LayoutModel",
            "justify_items": null,
            "grid_row": null,
            "max_height": null,
            "align_content": null,
            "visibility": null,
            "align_self": null,
            "height": null,
            "min_height": null,
            "padding": null,
            "grid_auto_rows": null,
            "grid_gap": null,
            "max_width": null,
            "order": null,
            "_view_module_version": "1.2.0",
            "grid_template_areas": null,
            "object_position": null,
            "object_fit": null,
            "grid_auto_columns": null,
            "margin": null,
            "display": null,
            "left": null
          }
        },
        "d12c7604bd5849b3931d0cc800d617f3": {
          "model_module": "@jupyter-widgets/controls",
          "model_name": "ProgressStyleModel",
          "model_module_version": "1.5.0",
          "state": {
            "_view_name": "StyleView",
            "_model_name": "ProgressStyleModel",
            "description_width": "",
            "_view_module": "@jupyter-widgets/base",
            "_model_module_version": "1.5.0",
            "_view_count": null,
            "_view_module_version": "1.2.0",
            "bar_color": null,
            "_model_module": "@jupyter-widgets/controls"
          }
        },
        "b193b3e895e54abb9f2c7d98c2beba21": {
          "model_module": "@jupyter-widgets/base",
          "model_name": "LayoutModel",
          "model_module_version": "1.2.0",
          "state": {
            "_view_name": "LayoutView",
            "grid_template_rows": null,
            "right": null,
            "justify_content": null,
            "_view_module": "@jupyter-widgets/base",
            "overflow": null,
            "_model_module_version": "1.2.0",
            "_view_count": null,
            "flex_flow": null,
            "width": null,
            "min_width": null,
            "border": null,
            "align_items": null,
            "bottom": null,
            "_model_module": "@jupyter-widgets/base",
            "top": null,
            "grid_column": null,
            "overflow_y": null,
            "overflow_x": null,
            "grid_auto_flow": null,
            "grid_area": null,
            "grid_template_columns": null,
            "flex": null,
            "_model_name": "LayoutModel",
            "justify_items": null,
            "grid_row": null,
            "max_height": null,
            "align_content": null,
            "visibility": null,
            "align_self": null,
            "height": null,
            "min_height": null,
            "padding": null,
            "grid_auto_rows": null,
            "grid_gap": null,
            "max_width": null,
            "order": null,
            "_view_module_version": "1.2.0",
            "grid_template_areas": null,
            "object_position": null,
            "object_fit": null,
            "grid_auto_columns": null,
            "margin": null,
            "display": null,
            "left": null
          }
        },
        "4bbc8b3249c34f418f6cdf090c10449d": {
          "model_module": "@jupyter-widgets/controls",
          "model_name": "DescriptionStyleModel",
          "model_module_version": "1.5.0",
          "state": {
            "_view_name": "StyleView",
            "_model_name": "DescriptionStyleModel",
            "description_width": "",
            "_view_module": "@jupyter-widgets/base",
            "_model_module_version": "1.5.0",
            "_view_count": null,
            "_view_module_version": "1.2.0",
            "_model_module": "@jupyter-widgets/controls"
          }
        },
        "6794d45834a14b949ffb82da92a26c3e": {
          "model_module": "@jupyter-widgets/base",
          "model_name": "LayoutModel",
          "model_module_version": "1.2.0",
          "state": {
            "_view_name": "LayoutView",
            "grid_template_rows": null,
            "right": null,
            "justify_content": null,
            "_view_module": "@jupyter-widgets/base",
            "overflow": null,
            "_model_module_version": "1.2.0",
            "_view_count": null,
            "flex_flow": null,
            "width": null,
            "min_width": null,
            "border": null,
            "align_items": null,
            "bottom": null,
            "_model_module": "@jupyter-widgets/base",
            "top": null,
            "grid_column": null,
            "overflow_y": null,
            "overflow_x": null,
            "grid_auto_flow": null,
            "grid_area": null,
            "grid_template_columns": null,
            "flex": null,
            "_model_name": "LayoutModel",
            "justify_items": null,
            "grid_row": null,
            "max_height": null,
            "align_content": null,
            "visibility": null,
            "align_self": null,
            "height": null,
            "min_height": null,
            "padding": null,
            "grid_auto_rows": null,
            "grid_gap": null,
            "max_width": null,
            "order": null,
            "_view_module_version": "1.2.0",
            "grid_template_areas": null,
            "object_position": null,
            "object_fit": null,
            "grid_auto_columns": null,
            "margin": null,
            "display": null,
            "left": null
          }
        },
        "f91603c37bbf4879bafbb5a08b5bbd2c": {
          "model_module": "@jupyter-widgets/controls",
          "model_name": "HBoxModel",
          "model_module_version": "1.5.0",
          "state": {
            "_view_name": "HBoxView",
            "_dom_classes": [],
            "_model_name": "HBoxModel",
            "_view_module": "@jupyter-widgets/controls",
            "_model_module_version": "1.5.0",
            "_view_count": null,
            "_view_module_version": "1.5.0",
            "box_style": "",
            "layout": "IPY_MODEL_688b9af9292749f39d2d19943234c715",
            "_model_module": "@jupyter-widgets/controls",
            "children": [
              "IPY_MODEL_2598e381692a4a46b172bc8787010228",
              "IPY_MODEL_74d1882e76754dce8c30e63b178e2648",
              "IPY_MODEL_97bd70de646b4d4f8c8c95ee6d0af80c"
            ]
          }
        },
        "688b9af9292749f39d2d19943234c715": {
          "model_module": "@jupyter-widgets/base",
          "model_name": "LayoutModel",
          "model_module_version": "1.2.0",
          "state": {
            "_view_name": "LayoutView",
            "grid_template_rows": null,
            "right": null,
            "justify_content": null,
            "_view_module": "@jupyter-widgets/base",
            "overflow": null,
            "_model_module_version": "1.2.0",
            "_view_count": null,
            "flex_flow": null,
            "width": null,
            "min_width": null,
            "border": null,
            "align_items": null,
            "bottom": null,
            "_model_module": "@jupyter-widgets/base",
            "top": null,
            "grid_column": null,
            "overflow_y": null,
            "overflow_x": null,
            "grid_auto_flow": null,
            "grid_area": null,
            "grid_template_columns": null,
            "flex": null,
            "_model_name": "LayoutModel",
            "justify_items": null,
            "grid_row": null,
            "max_height": null,
            "align_content": null,
            "visibility": null,
            "align_self": null,
            "height": null,
            "min_height": null,
            "padding": null,
            "grid_auto_rows": null,
            "grid_gap": null,
            "max_width": null,
            "order": null,
            "_view_module_version": "1.2.0",
            "grid_template_areas": null,
            "object_position": null,
            "object_fit": null,
            "grid_auto_columns": null,
            "margin": null,
            "display": null,
            "left": null
          }
        },
        "2598e381692a4a46b172bc8787010228": {
          "model_module": "@jupyter-widgets/controls",
          "model_name": "HTMLModel",
          "model_module_version": "1.5.0",
          "state": {
            "_view_name": "HTMLView",
            "style": "IPY_MODEL_8567f312341e40789e3f9b44f4408c98",
            "_dom_classes": [],
            "description": "",
            "_model_name": "HTMLModel",
            "placeholder": "​",
            "_view_module": "@jupyter-widgets/controls",
            "_model_module_version": "1.5.0",
            "value": "Downloading: 100%",
            "_view_count": null,
            "_view_module_version": "1.5.0",
            "description_tooltip": null,
            "_model_module": "@jupyter-widgets/controls",
            "layout": "IPY_MODEL_5398f16e66f24471af3a92e96561312a"
          }
        },
        "74d1882e76754dce8c30e63b178e2648": {
          "model_module": "@jupyter-widgets/controls",
          "model_name": "FloatProgressModel",
          "model_module_version": "1.5.0",
          "state": {
            "_view_name": "ProgressView",
            "style": "IPY_MODEL_dc9ebe55ba9045c8b4c3c6cafdc998c2",
            "_dom_classes": [],
            "description": "",
            "_model_name": "FloatProgressModel",
            "bar_style": "success",
            "max": 435797,
            "_view_module": "@jupyter-widgets/controls",
            "_model_module_version": "1.5.0",
            "value": 435797,
            "_view_count": null,
            "_view_module_version": "1.5.0",
            "orientation": "horizontal",
            "min": 0,
            "description_tooltip": null,
            "_model_module": "@jupyter-widgets/controls",
            "layout": "IPY_MODEL_cbb33ef97e2743b6940bb041aa622c5e"
          }
        },
        "97bd70de646b4d4f8c8c95ee6d0af80c": {
          "model_module": "@jupyter-widgets/controls",
          "model_name": "HTMLModel",
          "model_module_version": "1.5.0",
          "state": {
            "_view_name": "HTMLView",
            "style": "IPY_MODEL_8332b3cfd8a24d5e9f05a5de38376f8f",
            "_dom_classes": [],
            "description": "",
            "_model_name": "HTMLModel",
            "placeholder": "​",
            "_view_module": "@jupyter-widgets/controls",
            "_model_module_version": "1.5.0",
            "value": " 436k/436k [00:00&lt;00:00, 1.36MB/s]",
            "_view_count": null,
            "_view_module_version": "1.5.0",
            "description_tooltip": null,
            "_model_module": "@jupyter-widgets/controls",
            "layout": "IPY_MODEL_5a8572ad19834551abe5abe37aa61782"
          }
        },
        "8567f312341e40789e3f9b44f4408c98": {
          "model_module": "@jupyter-widgets/controls",
          "model_name": "DescriptionStyleModel",
          "model_module_version": "1.5.0",
          "state": {
            "_view_name": "StyleView",
            "_model_name": "DescriptionStyleModel",
            "description_width": "",
            "_view_module": "@jupyter-widgets/base",
            "_model_module_version": "1.5.0",
            "_view_count": null,
            "_view_module_version": "1.2.0",
            "_model_module": "@jupyter-widgets/controls"
          }
        },
        "5398f16e66f24471af3a92e96561312a": {
          "model_module": "@jupyter-widgets/base",
          "model_name": "LayoutModel",
          "model_module_version": "1.2.0",
          "state": {
            "_view_name": "LayoutView",
            "grid_template_rows": null,
            "right": null,
            "justify_content": null,
            "_view_module": "@jupyter-widgets/base",
            "overflow": null,
            "_model_module_version": "1.2.0",
            "_view_count": null,
            "flex_flow": null,
            "width": null,
            "min_width": null,
            "border": null,
            "align_items": null,
            "bottom": null,
            "_model_module": "@jupyter-widgets/base",
            "top": null,
            "grid_column": null,
            "overflow_y": null,
            "overflow_x": null,
            "grid_auto_flow": null,
            "grid_area": null,
            "grid_template_columns": null,
            "flex": null,
            "_model_name": "LayoutModel",
            "justify_items": null,
            "grid_row": null,
            "max_height": null,
            "align_content": null,
            "visibility": null,
            "align_self": null,
            "height": null,
            "min_height": null,
            "padding": null,
            "grid_auto_rows": null,
            "grid_gap": null,
            "max_width": null,
            "order": null,
            "_view_module_version": "1.2.0",
            "grid_template_areas": null,
            "object_position": null,
            "object_fit": null,
            "grid_auto_columns": null,
            "margin": null,
            "display": null,
            "left": null
          }
        },
        "dc9ebe55ba9045c8b4c3c6cafdc998c2": {
          "model_module": "@jupyter-widgets/controls",
          "model_name": "ProgressStyleModel",
          "model_module_version": "1.5.0",
          "state": {
            "_view_name": "StyleView",
            "_model_name": "ProgressStyleModel",
            "description_width": "",
            "_view_module": "@jupyter-widgets/base",
            "_model_module_version": "1.5.0",
            "_view_count": null,
            "_view_module_version": "1.2.0",
            "bar_color": null,
            "_model_module": "@jupyter-widgets/controls"
          }
        },
        "cbb33ef97e2743b6940bb041aa622c5e": {
          "model_module": "@jupyter-widgets/base",
          "model_name": "LayoutModel",
          "model_module_version": "1.2.0",
          "state": {
            "_view_name": "LayoutView",
            "grid_template_rows": null,
            "right": null,
            "justify_content": null,
            "_view_module": "@jupyter-widgets/base",
            "overflow": null,
            "_model_module_version": "1.2.0",
            "_view_count": null,
            "flex_flow": null,
            "width": null,
            "min_width": null,
            "border": null,
            "align_items": null,
            "bottom": null,
            "_model_module": "@jupyter-widgets/base",
            "top": null,
            "grid_column": null,
            "overflow_y": null,
            "overflow_x": null,
            "grid_auto_flow": null,
            "grid_area": null,
            "grid_template_columns": null,
            "flex": null,
            "_model_name": "LayoutModel",
            "justify_items": null,
            "grid_row": null,
            "max_height": null,
            "align_content": null,
            "visibility": null,
            "align_self": null,
            "height": null,
            "min_height": null,
            "padding": null,
            "grid_auto_rows": null,
            "grid_gap": null,
            "max_width": null,
            "order": null,
            "_view_module_version": "1.2.0",
            "grid_template_areas": null,
            "object_position": null,
            "object_fit": null,
            "grid_auto_columns": null,
            "margin": null,
            "display": null,
            "left": null
          }
        },
        "8332b3cfd8a24d5e9f05a5de38376f8f": {
          "model_module": "@jupyter-widgets/controls",
          "model_name": "DescriptionStyleModel",
          "model_module_version": "1.5.0",
          "state": {
            "_view_name": "StyleView",
            "_model_name": "DescriptionStyleModel",
            "description_width": "",
            "_view_module": "@jupyter-widgets/base",
            "_model_module_version": "1.5.0",
            "_view_count": null,
            "_view_module_version": "1.2.0",
            "_model_module": "@jupyter-widgets/controls"
          }
        },
        "5a8572ad19834551abe5abe37aa61782": {
          "model_module": "@jupyter-widgets/base",
          "model_name": "LayoutModel",
          "model_module_version": "1.2.0",
          "state": {
            "_view_name": "LayoutView",
            "grid_template_rows": null,
            "right": null,
            "justify_content": null,
            "_view_module": "@jupyter-widgets/base",
            "overflow": null,
            "_model_module_version": "1.2.0",
            "_view_count": null,
            "flex_flow": null,
            "width": null,
            "min_width": null,
            "border": null,
            "align_items": null,
            "bottom": null,
            "_model_module": "@jupyter-widgets/base",
            "top": null,
            "grid_column": null,
            "overflow_y": null,
            "overflow_x": null,
            "grid_auto_flow": null,
            "grid_area": null,
            "grid_template_columns": null,
            "flex": null,
            "_model_name": "LayoutModel",
            "justify_items": null,
            "grid_row": null,
            "max_height": null,
            "align_content": null,
            "visibility": null,
            "align_self": null,
            "height": null,
            "min_height": null,
            "padding": null,
            "grid_auto_rows": null,
            "grid_gap": null,
            "max_width": null,
            "order": null,
            "_view_module_version": "1.2.0",
            "grid_template_areas": null,
            "object_position": null,
            "object_fit": null,
            "grid_auto_columns": null,
            "margin": null,
            "display": null,
            "left": null
          }
        },
        "1004fdb33dff4caaa964f593425cd444": {
          "model_module": "@jupyter-widgets/controls",
          "model_name": "HBoxModel",
          "model_module_version": "1.5.0",
          "state": {
            "_view_name": "HBoxView",
            "_dom_classes": [],
            "_model_name": "HBoxModel",
            "_view_module": "@jupyter-widgets/controls",
            "_model_module_version": "1.5.0",
            "_view_count": null,
            "_view_module_version": "1.5.0",
            "box_style": "",
            "layout": "IPY_MODEL_abf46369b0c34335bfed6016bf7fe540",
            "_model_module": "@jupyter-widgets/controls",
            "children": [
              "IPY_MODEL_84128c8117bb4c09a7537490f06451ff",
              "IPY_MODEL_bddfa63266f6480597615a0148e71e32",
              "IPY_MODEL_8dc38236267445b1b02b3b91e0b91805"
            ]
          }
        },
        "abf46369b0c34335bfed6016bf7fe540": {
          "model_module": "@jupyter-widgets/base",
          "model_name": "LayoutModel",
          "model_module_version": "1.2.0",
          "state": {
            "_view_name": "LayoutView",
            "grid_template_rows": null,
            "right": null,
            "justify_content": null,
            "_view_module": "@jupyter-widgets/base",
            "overflow": null,
            "_model_module_version": "1.2.0",
            "_view_count": null,
            "flex_flow": null,
            "width": null,
            "min_width": null,
            "border": null,
            "align_items": null,
            "bottom": null,
            "_model_module": "@jupyter-widgets/base",
            "top": null,
            "grid_column": null,
            "overflow_y": null,
            "overflow_x": null,
            "grid_auto_flow": null,
            "grid_area": null,
            "grid_template_columns": null,
            "flex": null,
            "_model_name": "LayoutModel",
            "justify_items": null,
            "grid_row": null,
            "max_height": null,
            "align_content": null,
            "visibility": null,
            "align_self": null,
            "height": null,
            "min_height": null,
            "padding": null,
            "grid_auto_rows": null,
            "grid_gap": null,
            "max_width": null,
            "order": null,
            "_view_module_version": "1.2.0",
            "grid_template_areas": null,
            "object_position": null,
            "object_fit": null,
            "grid_auto_columns": null,
            "margin": null,
            "display": null,
            "left": null
          }
        },
        "84128c8117bb4c09a7537490f06451ff": {
          "model_module": "@jupyter-widgets/controls",
          "model_name": "HTMLModel",
          "model_module_version": "1.5.0",
          "state": {
            "_view_name": "HTMLView",
            "style": "IPY_MODEL_6a2bfb24f8984dabb349f1f7e5d5054b",
            "_dom_classes": [],
            "description": "",
            "_model_name": "HTMLModel",
            "placeholder": "​",
            "_view_module": "@jupyter-widgets/controls",
            "_model_module_version": "1.5.0",
            "value": "Downloading: 100%",
            "_view_count": null,
            "_view_module_version": "1.5.0",
            "description_tooltip": null,
            "_model_module": "@jupyter-widgets/controls",
            "layout": "IPY_MODEL_28a727a6d9ee4514a91c8a9020b21f54"
          }
        },
        "bddfa63266f6480597615a0148e71e32": {
          "model_module": "@jupyter-widgets/controls",
          "model_name": "FloatProgressModel",
          "model_module_version": "1.5.0",
          "state": {
            "_view_name": "ProgressView",
            "style": "IPY_MODEL_1204e4557c5247bba618fa881c379eda",
            "_dom_classes": [],
            "description": "",
            "_model_name": "FloatProgressModel",
            "bar_style": "success",
            "max": 570,
            "_view_module": "@jupyter-widgets/controls",
            "_model_module_version": "1.5.0",
            "value": 570,
            "_view_count": null,
            "_view_module_version": "1.5.0",
            "orientation": "horizontal",
            "min": 0,
            "description_tooltip": null,
            "_model_module": "@jupyter-widgets/controls",
            "layout": "IPY_MODEL_4f298a472f8a4d85991cacde122c71c5"
          }
        },
        "8dc38236267445b1b02b3b91e0b91805": {
          "model_module": "@jupyter-widgets/controls",
          "model_name": "HTMLModel",
          "model_module_version": "1.5.0",
          "state": {
            "_view_name": "HTMLView",
            "style": "IPY_MODEL_7536e1d5fe0643f78c3a75dda1fad494",
            "_dom_classes": [],
            "description": "",
            "_model_name": "HTMLModel",
            "placeholder": "​",
            "_view_module": "@jupyter-widgets/controls",
            "_model_module_version": "1.5.0",
            "value": " 570/570 [00:00&lt;00:00, 13.1kB/s]",
            "_view_count": null,
            "_view_module_version": "1.5.0",
            "description_tooltip": null,
            "_model_module": "@jupyter-widgets/controls",
            "layout": "IPY_MODEL_8e3604eaf701448ea8537eafe1460863"
          }
        },
        "6a2bfb24f8984dabb349f1f7e5d5054b": {
          "model_module": "@jupyter-widgets/controls",
          "model_name": "DescriptionStyleModel",
          "model_module_version": "1.5.0",
          "state": {
            "_view_name": "StyleView",
            "_model_name": "DescriptionStyleModel",
            "description_width": "",
            "_view_module": "@jupyter-widgets/base",
            "_model_module_version": "1.5.0",
            "_view_count": null,
            "_view_module_version": "1.2.0",
            "_model_module": "@jupyter-widgets/controls"
          }
        },
        "28a727a6d9ee4514a91c8a9020b21f54": {
          "model_module": "@jupyter-widgets/base",
          "model_name": "LayoutModel",
          "model_module_version": "1.2.0",
          "state": {
            "_view_name": "LayoutView",
            "grid_template_rows": null,
            "right": null,
            "justify_content": null,
            "_view_module": "@jupyter-widgets/base",
            "overflow": null,
            "_model_module_version": "1.2.0",
            "_view_count": null,
            "flex_flow": null,
            "width": null,
            "min_width": null,
            "border": null,
            "align_items": null,
            "bottom": null,
            "_model_module": "@jupyter-widgets/base",
            "top": null,
            "grid_column": null,
            "overflow_y": null,
            "overflow_x": null,
            "grid_auto_flow": null,
            "grid_area": null,
            "grid_template_columns": null,
            "flex": null,
            "_model_name": "LayoutModel",
            "justify_items": null,
            "grid_row": null,
            "max_height": null,
            "align_content": null,
            "visibility": null,
            "align_self": null,
            "height": null,
            "min_height": null,
            "padding": null,
            "grid_auto_rows": null,
            "grid_gap": null,
            "max_width": null,
            "order": null,
            "_view_module_version": "1.2.0",
            "grid_template_areas": null,
            "object_position": null,
            "object_fit": null,
            "grid_auto_columns": null,
            "margin": null,
            "display": null,
            "left": null
          }
        },
        "1204e4557c5247bba618fa881c379eda": {
          "model_module": "@jupyter-widgets/controls",
          "model_name": "ProgressStyleModel",
          "model_module_version": "1.5.0",
          "state": {
            "_view_name": "StyleView",
            "_model_name": "ProgressStyleModel",
            "description_width": "",
            "_view_module": "@jupyter-widgets/base",
            "_model_module_version": "1.5.0",
            "_view_count": null,
            "_view_module_version": "1.2.0",
            "bar_color": null,
            "_model_module": "@jupyter-widgets/controls"
          }
        },
        "4f298a472f8a4d85991cacde122c71c5": {
          "model_module": "@jupyter-widgets/base",
          "model_name": "LayoutModel",
          "model_module_version": "1.2.0",
          "state": {
            "_view_name": "LayoutView",
            "grid_template_rows": null,
            "right": null,
            "justify_content": null,
            "_view_module": "@jupyter-widgets/base",
            "overflow": null,
            "_model_module_version": "1.2.0",
            "_view_count": null,
            "flex_flow": null,
            "width": null,
            "min_width": null,
            "border": null,
            "align_items": null,
            "bottom": null,
            "_model_module": "@jupyter-widgets/base",
            "top": null,
            "grid_column": null,
            "overflow_y": null,
            "overflow_x": null,
            "grid_auto_flow": null,
            "grid_area": null,
            "grid_template_columns": null,
            "flex": null,
            "_model_name": "LayoutModel",
            "justify_items": null,
            "grid_row": null,
            "max_height": null,
            "align_content": null,
            "visibility": null,
            "align_self": null,
            "height": null,
            "min_height": null,
            "padding": null,
            "grid_auto_rows": null,
            "grid_gap": null,
            "max_width": null,
            "order": null,
            "_view_module_version": "1.2.0",
            "grid_template_areas": null,
            "object_position": null,
            "object_fit": null,
            "grid_auto_columns": null,
            "margin": null,
            "display": null,
            "left": null
          }
        },
        "7536e1d5fe0643f78c3a75dda1fad494": {
          "model_module": "@jupyter-widgets/controls",
          "model_name": "DescriptionStyleModel",
          "model_module_version": "1.5.0",
          "state": {
            "_view_name": "StyleView",
            "_model_name": "DescriptionStyleModel",
            "description_width": "",
            "_view_module": "@jupyter-widgets/base",
            "_model_module_version": "1.5.0",
            "_view_count": null,
            "_view_module_version": "1.2.0",
            "_model_module": "@jupyter-widgets/controls"
          }
        },
        "8e3604eaf701448ea8537eafe1460863": {
          "model_module": "@jupyter-widgets/base",
          "model_name": "LayoutModel",
          "model_module_version": "1.2.0",
          "state": {
            "_view_name": "LayoutView",
            "grid_template_rows": null,
            "right": null,
            "justify_content": null,
            "_view_module": "@jupyter-widgets/base",
            "overflow": null,
            "_model_module_version": "1.2.0",
            "_view_count": null,
            "flex_flow": null,
            "width": null,
            "min_width": null,
            "border": null,
            "align_items": null,
            "bottom": null,
            "_model_module": "@jupyter-widgets/base",
            "top": null,
            "grid_column": null,
            "overflow_y": null,
            "overflow_x": null,
            "grid_auto_flow": null,
            "grid_area": null,
            "grid_template_columns": null,
            "flex": null,
            "_model_name": "LayoutModel",
            "justify_items": null,
            "grid_row": null,
            "max_height": null,
            "align_content": null,
            "visibility": null,
            "align_self": null,
            "height": null,
            "min_height": null,
            "padding": null,
            "grid_auto_rows": null,
            "grid_gap": null,
            "max_width": null,
            "order": null,
            "_view_module_version": "1.2.0",
            "grid_template_areas": null,
            "object_position": null,
            "object_fit": null,
            "grid_auto_columns": null,
            "margin": null,
            "display": null,
            "left": null
          }
        }
      }
    }
  },
  "cells": [
    {
      "cell_type": "code",
      "metadata": {
        "colab": {
          "base_uri": "https://localhost:8080/"
        },
        "id": "xGtbP9CsAAor",
        "outputId": "5251bb62-6625-4190-e465-9aad1dea9be4"
      },
      "source": [
        "!pip install transformers"
      ],
      "execution_count": 1,
      "outputs": [
        {
          "output_type": "stream",
          "name": "stdout",
          "text": [
            "Collecting transformers\n",
            "  Downloading transformers-4.10.3-py3-none-any.whl (2.8 MB)\n",
            "\u001b[K     |████████████████████████████████| 2.8 MB 5.5 MB/s \n",
            "\u001b[?25hRequirement already satisfied: requests in /usr/local/lib/python3.7/dist-packages (from transformers) (2.23.0)\n",
            "Collecting huggingface-hub>=0.0.12\n",
            "  Downloading huggingface_hub-0.0.17-py3-none-any.whl (52 kB)\n",
            "\u001b[K     |████████████████████████████████| 52 kB 1.3 MB/s \n",
            "\u001b[?25hCollecting sacremoses\n",
            "  Downloading sacremoses-0.0.46-py3-none-any.whl (895 kB)\n",
            "\u001b[K     |████████████████████████████████| 895 kB 47.0 MB/s \n",
            "\u001b[?25hRequirement already satisfied: packaging in /usr/local/lib/python3.7/dist-packages (from transformers) (21.0)\n",
            "Collecting tokenizers<0.11,>=0.10.1\n",
            "  Downloading tokenizers-0.10.3-cp37-cp37m-manylinux_2_5_x86_64.manylinux1_x86_64.manylinux_2_12_x86_64.manylinux2010_x86_64.whl (3.3 MB)\n",
            "\u001b[K     |████████████████████████████████| 3.3 MB 32.4 MB/s \n",
            "\u001b[?25hRequirement already satisfied: tqdm>=4.27 in /usr/local/lib/python3.7/dist-packages (from transformers) (4.62.2)\n",
            "Requirement already satisfied: numpy>=1.17 in /usr/local/lib/python3.7/dist-packages (from transformers) (1.19.5)\n",
            "Collecting pyyaml>=5.1\n",
            "  Downloading PyYAML-5.4.1-cp37-cp37m-manylinux1_x86_64.whl (636 kB)\n",
            "\u001b[K     |████████████████████████████████| 636 kB 39.6 MB/s \n",
            "\u001b[?25hRequirement already satisfied: importlib-metadata in /usr/local/lib/python3.7/dist-packages (from transformers) (4.8.1)\n",
            "Requirement already satisfied: regex!=2019.12.17 in /usr/local/lib/python3.7/dist-packages (from transformers) (2019.12.20)\n",
            "Requirement already satisfied: filelock in /usr/local/lib/python3.7/dist-packages (from transformers) (3.0.12)\n",
            "Requirement already satisfied: typing-extensions in /usr/local/lib/python3.7/dist-packages (from huggingface-hub>=0.0.12->transformers) (3.7.4.3)\n",
            "Requirement already satisfied: pyparsing>=2.0.2 in /usr/local/lib/python3.7/dist-packages (from packaging->transformers) (2.4.7)\n",
            "Requirement already satisfied: zipp>=0.5 in /usr/local/lib/python3.7/dist-packages (from importlib-metadata->transformers) (3.5.0)\n",
            "Requirement already satisfied: idna<3,>=2.5 in /usr/local/lib/python3.7/dist-packages (from requests->transformers) (2.10)\n",
            "Requirement already satisfied: urllib3!=1.25.0,!=1.25.1,<1.26,>=1.21.1 in /usr/local/lib/python3.7/dist-packages (from requests->transformers) (1.24.3)\n",
            "Requirement already satisfied: certifi>=2017.4.17 in /usr/local/lib/python3.7/dist-packages (from requests->transformers) (2021.5.30)\n",
            "Requirement already satisfied: chardet<4,>=3.0.2 in /usr/local/lib/python3.7/dist-packages (from requests->transformers) (3.0.4)\n",
            "Requirement already satisfied: click in /usr/local/lib/python3.7/dist-packages (from sacremoses->transformers) (7.1.2)\n",
            "Requirement already satisfied: joblib in /usr/local/lib/python3.7/dist-packages (from sacremoses->transformers) (1.0.1)\n",
            "Requirement already satisfied: six in /usr/local/lib/python3.7/dist-packages (from sacremoses->transformers) (1.15.0)\n",
            "Installing collected packages: tokenizers, sacremoses, pyyaml, huggingface-hub, transformers\n",
            "  Attempting uninstall: pyyaml\n",
            "    Found existing installation: PyYAML 3.13\n",
            "    Uninstalling PyYAML-3.13:\n",
            "      Successfully uninstalled PyYAML-3.13\n",
            "Successfully installed huggingface-hub-0.0.17 pyyaml-5.4.1 sacremoses-0.0.46 tokenizers-0.10.3 transformers-4.10.3\n"
          ]
        }
      ]
    },
    {
      "cell_type": "markdown",
      "metadata": {
        "id": "rqLghE6wAHC4"
      },
      "source": [
        "# Tokenizers\n",
        "\n",
        "Tokenizer는 NLP pipeline에 핵심!\n",
        "\n",
        "Tokenizer: text input -> number data"
      ]
    },
    {
      "cell_type": "markdown",
      "metadata": {
        "id": "8YrdLrXeAdrs"
      },
      "source": [
        "## Word-based\n",
        "\n",
        "![00](https://user-images.githubusercontent.com/59636424/134798195-653b9700-43ea-4e62-b1ee-f47ec74385a0.PNG)\n"
      ]
    },
    {
      "cell_type": "code",
      "metadata": {
        "colab": {
          "base_uri": "https://localhost:8080/"
        },
        "id": "8b8OO6e2AGQN",
        "outputId": "b526a517-db4e-45fa-e3ad-f9c2e131cc39"
      },
      "source": [
        "tokenized_text = \"Jim Henson was a puppeteer\".split()\n",
        "print(tokenized_text)"
      ],
      "execution_count": 2,
      "outputs": [
        {
          "output_type": "stream",
          "name": "stdout",
          "text": [
            "['Jim', 'Henson', 'was', 'a', 'puppeteer']\n"
          ]
        }
      ]
    },
    {
      "cell_type": "markdown",
      "metadata": {
        "id": "YlAE92_FAzOi"
      },
      "source": [
        "이러한 tokenizer로 꽤 큰 vocabulary를 만들 수 있다!\n",
        "\n",
        "vocabulary = corpus에 있는 독립적인 token들의 총 수\n",
        "\n",
        "**각 단어에 대한 엄청 많은 토큰이 생성된다.**\n",
        "\n",
        "예시로, dog와 dogs는 유사함을 모르니 다르게 표현될 것이다.\n",
        "\n",
        "---\n",
        "\n",
        "어휘에 없는 단어들을 표현하기 위해서 UNK라는 token을 사용한다.\n",
        "\n",
        "=> 하지만 좋지 않다. 이유는 어휘에 없는 단어를 UNK로 표현하는 것이 합리적인 표현이 아니기 때문이다.\n",
        "\n",
        "=> **그래서 가능한 적은 수의 단어를 토큰화하려 한다!**\n",
        "\n"
      ]
    },
    {
      "cell_type": "markdown",
      "metadata": {
        "id": "z0X6Ne26CVgd"
      },
      "source": [
        "## Character-based\n",
        "\n",
        "text -> characters(문자) split\n",
        "\n",
        "    vocabulary가 더 작아진다.\n",
        "\n",
        "    unknown token이 줄어든다.\n",
        "\n",
        "![xxxx.PNG](data:image/png;base64,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)\n",
        "\n",
        "하지만, 이러한 접근법도 완벽하지 않다! -> 단어 그 자체의 의미를 잃는다.\n",
        "\n",
        "토큰의 양도 많다!"
      ]
    },
    {
      "cell_type": "markdown",
      "metadata": {
        "id": "1BFLJEmnGFBS"
      },
      "source": [
        "## subword\n",
        "\n",
        "![xxx.PNG](data:image/png;base64,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)\n",
        "\n",
        "그럼에서 보면, 의미적으로 가지는 두 개의 토큰으로 나눴다. 비교적으로 좋은 coverage를 가지고 unknown token도 거의 없다.\n",
        "\n",
        "* subword 기술\n",
        "\n",
        "> * BPE (used in GPT-2)\n",
        "> * WordPiece (used in BERT)\n",
        "> * SentencePiece or Unigram (used in several multilingual models)\n"
      ]
    },
    {
      "cell_type": "markdown",
      "metadata": {
        "id": "-YirAklKHhEA"
      },
      "source": [
        "## Loading and saving\n",
        "\n",
        "from_pretrained와 save_pretrained method를 이용해 loading과 saving을 한다!"
      ]
    },
    {
      "cell_type": "markdown",
      "metadata": {
        "id": "Z05jN871H_dS"
      },
      "source": [
        "BERT tokenizer loading!"
      ]
    },
    {
      "cell_type": "code",
      "metadata": {
        "colab": {
          "base_uri": "https://localhost:8080/",
          "height": 145,
          "referenced_widgets": [
            "0db8b99851fb434caedc032718d3e36b",
            "494881d4d8d344809612cde65d81506e",
            "7995a01baad843ea94d80f2e37fb91b3",
            "ea7f690a99df4ee0ae26f5c58b2d1dcb",
            "54baf75da0a541f883caeb794c9ae23e",
            "20de2e5e23ce4b878977d4437c3d5a30",
            "73f1a2da03364d0fbad57a18c765c0c2",
            "b75fd63629f440a29690e9e53e7b3462",
            "1cf1f3af2da443169b43c8c765aae092",
            "4c95edb4b9334eb18a9ae5bf0bacf6ba",
            "9868535c213646a5ac5c534c9c91b8b1",
            "bf91f780e6a6469fada2e4cbde874fc8",
            "eb9850a1f4d540458754cd56335b6b98",
            "5b75f72f6317451ba279cad3fc11c3a9",
            "e898f9674bd04941a5434ab426adda5e",
            "a50389c1850645768fca7660d6b69dc4",
            "7e6b640c3c474903b5f9b6b3233ed94e",
            "c0c4ea940f414c92a92b9a46fcefb02d",
            "d12c7604bd5849b3931d0cc800d617f3",
            "b193b3e895e54abb9f2c7d98c2beba21",
            "4bbc8b3249c34f418f6cdf090c10449d",
            "6794d45834a14b949ffb82da92a26c3e",
            "f91603c37bbf4879bafbb5a08b5bbd2c",
            "688b9af9292749f39d2d19943234c715",
            "2598e381692a4a46b172bc8787010228",
            "74d1882e76754dce8c30e63b178e2648",
            "97bd70de646b4d4f8c8c95ee6d0af80c",
            "8567f312341e40789e3f9b44f4408c98",
            "5398f16e66f24471af3a92e96561312a",
            "dc9ebe55ba9045c8b4c3c6cafdc998c2",
            "cbb33ef97e2743b6940bb041aa622c5e",
            "8332b3cfd8a24d5e9f05a5de38376f8f",
            "5a8572ad19834551abe5abe37aa61782",
            "1004fdb33dff4caaa964f593425cd444",
            "abf46369b0c34335bfed6016bf7fe540",
            "84128c8117bb4c09a7537490f06451ff",
            "bddfa63266f6480597615a0148e71e32",
            "8dc38236267445b1b02b3b91e0b91805",
            "6a2bfb24f8984dabb349f1f7e5d5054b",
            "28a727a6d9ee4514a91c8a9020b21f54",
            "1204e4557c5247bba618fa881c379eda",
            "4f298a472f8a4d85991cacde122c71c5",
            "7536e1d5fe0643f78c3a75dda1fad494",
            "8e3604eaf701448ea8537eafe1460863"
          ]
        },
        "id": "Lsdg2pJuAunU",
        "outputId": "0075c0a7-69c2-44c1-81e5-30a24281b839"
      },
      "source": [
        "from transformers import BertTokenizer\n",
        "\n",
        "tokenizer = BertTokenizer.from_pretrained(\"bert-base-cased\")"
      ],
      "execution_count": 3,
      "outputs": [
        {
          "output_type": "display_data",
          "data": {
            "application/vnd.jupyter.widget-view+json": {
              "model_id": "0db8b99851fb434caedc032718d3e36b",
              "version_minor": 0,
              "version_major": 2
            },
            "text/plain": [
              "Downloading:   0%|          | 0.00/213k [00:00<?, ?B/s]"
            ]
          },
          "metadata": {}
        },
        {
          "output_type": "display_data",
          "data": {
            "application/vnd.jupyter.widget-view+json": {
              "model_id": "bf91f780e6a6469fada2e4cbde874fc8",
              "version_minor": 0,
              "version_major": 2
            },
            "text/plain": [
              "Downloading:   0%|          | 0.00/29.0 [00:00<?, ?B/s]"
            ]
          },
          "metadata": {}
        },
        {
          "output_type": "display_data",
          "data": {
            "application/vnd.jupyter.widget-view+json": {
              "model_id": "f91603c37bbf4879bafbb5a08b5bbd2c",
              "version_minor": 0,
              "version_major": 2
            },
            "text/plain": [
              "Downloading:   0%|          | 0.00/436k [00:00<?, ?B/s]"
            ]
          },
          "metadata": {}
        },
        {
          "output_type": "display_data",
          "data": {
            "application/vnd.jupyter.widget-view+json": {
              "model_id": "1004fdb33dff4caaa964f593425cd444",
              "version_minor": 0,
              "version_major": 2
            },
            "text/plain": [
              "Downloading:   0%|          | 0.00/570 [00:00<?, ?B/s]"
            ]
          },
          "metadata": {}
        }
      ]
    },
    {
      "cell_type": "markdown",
      "metadata": {
        "id": "aRaZEsa7IC8y"
      },
      "source": [
        "AutoModel과 유사하게, AutoTokenizer class로 checkpoint를 가지고 tokenizer 사용!"
      ]
    },
    {
      "cell_type": "code",
      "metadata": {
        "id": "-26ojoOxH702"
      },
      "source": [
        "from transformers import AutoTokenizer\n",
        "\n",
        "tokenizer = AutoTokenizer.from_pretrained(\"bert-base-cased\")"
      ],
      "execution_count": 4,
      "outputs": []
    },
    {
      "cell_type": "code",
      "metadata": {
        "colab": {
          "base_uri": "https://localhost:8080/"
        },
        "id": "MNEUcgPrIOeP",
        "outputId": "95d4272d-97fc-4067-a7d6-94232d2cebc2"
      },
      "source": [
        "tokenizer(\"Using a Transformer network is simple\")"
      ],
      "execution_count": 5,
      "outputs": [
        {
          "output_type": "execute_result",
          "data": {
            "text/plain": [
              "{'input_ids': [101, 7993, 170, 13809, 23763, 2443, 1110, 3014, 102], 'token_type_ids': [0, 0, 0, 0, 0, 0, 0, 0, 0], 'attention_mask': [1, 1, 1, 1, 1, 1, 1, 1, 1]}"
            ]
          },
          "metadata": {},
          "execution_count": 5
        }
      ]
    },
    {
      "cell_type": "code",
      "metadata": {
        "id": "Wao1XFpOIQwe"
      },
      "source": [
        "tokenizer.save_pretrained(\"directory_on_my_computer\")"
      ],
      "execution_count": null,
      "outputs": []
    },
    {
      "cell_type": "markdown",
      "metadata": {
        "id": "M9rWqnb4IYuG"
      },
      "source": [
        "## Encoding\n",
        "\n",
        "text -> number convert!\n",
        "\n",
        "* 2가지 step 존재!\n",
        "\n",
        "> *  first step\n",
        "> > text를 토큰화\n",
        "> * second step\n",
        "> > token -> 숫자로 변환 (사전 학습 모델의 vocabulary 사용!)"
      ]
    },
    {
      "cell_type": "markdown",
      "metadata": {
        "id": "4mPu5iDPKFhu"
      },
      "source": [
        "### Tokenization"
      ]
    },
    {
      "cell_type": "code",
      "metadata": {
        "colab": {
          "base_uri": "https://localhost:8080/"
        },
        "id": "qyygy7FaIZYv",
        "outputId": "62530ef4-75fa-4f9e-d399-c4806f6829c9"
      },
      "source": [
        "from transformers import AutoTokenizer\n",
        "tokenizer = AutoTokenizer.from_pretrained(\"bert-base-cased\")\n",
        "\n",
        "sequence = \"Using a Transformer network is simple\"\n",
        "tokens = tokenizer.tokenize(sequence)\n",
        "\n",
        "print(tokens)"
      ],
      "execution_count": 6,
      "outputs": [
        {
          "output_type": "stream",
          "name": "stdout",
          "text": [
            "['Using', 'a', 'Trans', '##former', 'network', 'is', 'simple']\n"
          ]
        }
      ]
    },
    {
      "cell_type": "markdown",
      "metadata": {
        "id": "nsHbfsEZKK9N"
      },
      "source": [
        "subword tokenizer이므로, vocabulary로 나타낼 수 있는 token이 나올 때까지, 단어 분할!!"
      ]
    },
    {
      "cell_type": "markdown",
      "metadata": {
        "id": "gIZEUN25KmuV"
      },
      "source": [
        "### From tokens to input IDs\n",
        "\n",
        "**convert_tokens_to_ids** method로 token -> id로 표현"
      ]
    },
    {
      "cell_type": "code",
      "metadata": {
        "colab": {
          "base_uri": "https://localhost:8080/"
        },
        "id": "_Ep8jfp3KIQe",
        "outputId": "0671d5d0-1ac3-4233-9a8f-9a680b594219"
      },
      "source": [
        "ids = tokenizer.convert_tokens_to_ids(tokens)\n",
        "\n",
        "print(ids)"
      ],
      "execution_count": 7,
      "outputs": [
        {
          "output_type": "stream",
          "name": "stdout",
          "text": [
            "[7993, 170, 13809, 23763, 2443, 1110, 3014]\n"
          ]
        }
      ]
    },
    {
      "cell_type": "markdown",
      "metadata": {
        "id": "7MXB2YgTK2F7"
      },
      "source": [
        "✏️ Try it out! Replicate the two last steps (tokenization and conversion to input IDs) on the input sentences we used in section 2 (“I’ve been waiting for a HuggingFace course my whole life.” and “I hate this so much!”). Check that you get the same input IDs we got earlier!\n",
        "\n"
      ]
    },
    {
      "cell_type": "code",
      "metadata": {
        "colab": {
          "base_uri": "https://localhost:8080/"
        },
        "id": "PyxK1hfnKwdA",
        "outputId": "ad17a49b-2718-4012-ba8c-9ef712b455a8"
      },
      "source": [
        "sequence = \"I’ve been waiting for a HuggingFace course my whole life.” and “I hate this so much!\"\n",
        "tokens = tokenizer.tokenize(sequence)\n",
        "ids = tokenizer.convert_tokens_to_ids(tokens)\n",
        "print(ids)"
      ],
      "execution_count": 8,
      "outputs": [
        {
          "output_type": "stream",
          "name": "stdout",
          "text": [
            "[146, 787, 1396, 1151, 2613, 1111, 170, 20164, 10932, 2271, 7954, 1736, 1139, 2006, 1297, 119, 790, 1105, 789, 146, 4819, 1142, 1177, 1277, 106]\n"
          ]
        }
      ]
    },
    {
      "cell_type": "markdown",
      "metadata": {
        "id": "UW1QfOQHLCSU"
      },
      "source": [
        "## Decoding\n",
        "\n",
        "id -> token으로 표현"
      ]
    },
    {
      "cell_type": "code",
      "metadata": {
        "colab": {
          "base_uri": "https://localhost:8080/"
        },
        "id": "BFQOpCxYK9c-",
        "outputId": "e579e035-db35-414f-eec6-1eaeaf929b18"
      },
      "source": [
        "decoded_string = tokenizer.decode([7993, 170, 11303, 1200, 2443, 1110, 3014])\n",
        "print(decoded_string)"
      ],
      "execution_count": 9,
      "outputs": [
        {
          "output_type": "stream",
          "name": "stdout",
          "text": [
            "Using a transformer network is simple\n"
          ]
        }
      ]
    },
    {
      "cell_type": "markdown",
      "metadata": {
        "id": "U8XtF1wtLMCI"
      },
      "source": [
        "decoder method로 index -> token 뿐만 아니라, **문장을 생성하기 위해 동일한 단어의 일부를 token화하여 그룹화**한다!!\n",
        "\n",
        "=> 이러한 행동은 new text를 예측하는 모델(요약 or 번역)을 사용할 때 유용!"
      ]
    },
    {
      "cell_type": "code",
      "metadata": {
        "id": "g1_rWmcsLH98"
      },
      "source": [
        ""
      ],
      "execution_count": null,
      "outputs": []
    }
  ]
}